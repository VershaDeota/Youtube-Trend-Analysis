{
 "cells": [
  {
   "cell_type": "markdown",
   "metadata": {},
   "source": [
    "<h2 id=\"tocHeading\">Youtube Trending Video Analysis</h2>\n",
    "<div id=\"toc\"></div>"
   ]
  },
  {
   "cell_type": "code",
   "execution_count": 1,
   "metadata": {},
   "outputs": [
    {
     "data": {
      "application/javascript": [
       "$.getScript('https://kmahelona.github.io/ipython_notebook_goodies/ipython_notebook_toc.js')"
      ],
      "text/plain": [
       "<IPython.core.display.Javascript object>"
      ]
     },
     "metadata": {},
     "output_type": "display_data"
    }
   ],
   "source": [
    "%%javascript\n",
    "$.getScript('https://kmahelona.github.io/ipython_notebook_goodies/ipython_notebook_toc.js')"
   ]
  },
  {
   "cell_type": "markdown",
   "metadata": {},
   "source": [
    "## Summary\n",
    "The main goal of the analysis is to find interesting facts and patterns by exploring the data and by using effective visualizations."
   ]
  },
  {
   "cell_type": "markdown",
   "metadata": {},
   "source": [
    "## Data Source\n",
    "The data used in this analysis was downloaded from [Kaggle](https://www.kaggle.com/datasnaek/youtube-new) which was actually fetched from YouTube APIs.\n",
    "\n",
    "This dataset includes several months (and counting) of data on daily trending YouTube videos. Data is included for the US, GB, DE, CA, FR, RU, MX, KR, JP, and IN regions (USA, Great Britain, Germany, Canada, France, Russia, Mexico, South Korea, Japan, and India respectively), with up to 200 listed trending videos per day.\n",
    "\n",
    "Each region’s data is in a separate file. Data includes the video title, channel title, publish time, tags, views, likes and dislikes, description, and comment count.\n",
    "\n",
    "The data also includes a category_id field, which varies between regions. To retrieve the categories for a specific video, find it in the associated JSON. One such file is included for each of the five regions in the dataset.\n",
    "\n",
    "For more information on specific columns in the dataset refer to the [column metadata](https://www.kaggle.com/datasnaek/youtube-new/data)."
   ]
  },
  {
   "cell_type": "markdown",
   "metadata": {},
   "source": [
    "## Data loading and preparation\n"
   ]
  },
  {
   "cell_type": "markdown",
   "metadata": {},
   "source": [
    "### Import packages and libraries"
   ]
  },
  {
   "cell_type": "code",
   "execution_count": 2,
   "metadata": {},
   "outputs": [],
   "source": [
    "import pandas as pd\n",
    "import glob\n",
    "import json\n",
    "import matplotlib.pyplot as plt\n",
    "import os\n",
    "import re\n",
    "import seaborn as sns"
   ]
  },
  {
   "cell_type": "markdown",
   "metadata": {},
   "source": [
    "### Read the dataset"
   ]
  },
  {
   "cell_type": "markdown",
   "metadata": {},
   "source": [
    "#### Fetch & Read all the data files (.csv)"
   ]
  },
  {
   "cell_type": "code",
   "execution_count": 3,
   "metadata": {},
   "outputs": [],
   "source": [
    "# Get the CSV (or data files) location\n",
    "path=\"C:/Users/VershaDeota/Data Science/archive/\""
   ]
  },
  {
   "cell_type": "code",
   "execution_count": 4,
   "metadata": {},
   "outputs": [],
   "source": [
    "# Read all the (csv) files and merge to a single dataframe\n",
    "all_files=glob.glob(os.path.join(path, \"*.csv\"))\n",
    "all_df = []\n",
    "for f in all_files:\n",
    "    df = pd.read_csv(f, sep=',',encoding='latin1')\n",
    "    #print((f.split('videos.csv')[0][::-1])[0:2][::-1])        \n",
    "    df['country'] = (f.split('videos.csv')[0][::-1])[0:2][::-1]\n",
    "    all_df.append(df)\n",
    "    \n",
    "merged_df = pd.concat(all_df, ignore_index=True)"
   ]
  },
  {
   "cell_type": "markdown",
   "metadata": {},
   "source": [
    "#### Fetch & Read the json files for retrieving category details"
   ]
  },
  {
   "cell_type": "code",
   "execution_count": 6,
   "metadata": {},
   "outputs": [],
   "source": [
    "category_id = {}\n",
    "\n",
    "# Read the US Category file \n",
    "with open(os.path.join(path, \"US_category_id.json\"), 'r') as f:\n",
    "    data = json.load(f)\n",
    "    for category in data['items']:\n",
    "        category_id[category['id']] = category['snippet']['title']"
   ]
  },
  {
   "cell_type": "code",
   "execution_count": 7,
   "metadata": {},
   "outputs": [],
   "source": [
    "# Create a new column in the dataframe and add the category name after mapping it with exisitng category_id in the dataframe\n",
    "merged_df['category_id']=merged_df['category_id'].astype(str)\n",
    "merged_df.insert(4, 'category', merged_df['category_id'].map(category_id))"
   ]
  },
  {
   "cell_type": "markdown",
   "metadata": {},
   "source": [
    "### Clean, format and pre-process the dataset"
   ]
  },
  {
   "cell_type": "markdown",
   "metadata": {},
   "source": [
    "#### Handle Null and N/A values"
   ]
  },
  {
   "cell_type": "code",
   "execution_count": 8,
   "metadata": {},
   "outputs": [
    {
     "data": {
      "text/plain": [
       "video_id                      0\n",
       "trending_date                 0\n",
       "title                         0\n",
       "channel_title                 0\n",
       "category                      0\n",
       "category_id                   0\n",
       "publish_time                  0\n",
       "tags                          0\n",
       "views                         0\n",
       "likes                         0\n",
       "dislikes                      0\n",
       "comment_count                 0\n",
       "thumbnail_link                0\n",
       "comments_disabled             0\n",
       "ratings_disabled              0\n",
       "video_error_or_removed        0\n",
       "description               19478\n",
       "country                       0\n",
       "dtype: int64"
      ]
     },
     "execution_count": 8,
     "metadata": {},
     "output_type": "execute_result"
    }
   ],
   "source": [
    "# Find and remove missing and null values\n",
    "merged_df.isna().sum()"
   ]
  },
  {
   "cell_type": "code",
   "execution_count": 9,
   "metadata": {},
   "outputs": [],
   "source": [
    "# As we see above that the 'description' columns has a lot of null/na values, let's go ahead and remove them from the dataframe\n",
    "merged_df[\"description\"] = merged_df[\"description\"].fillna(value=\"\")\n",
    "#merged_df.isna().sum()"
   ]
  },
  {
   "cell_type": "markdown",
   "metadata": {},
   "source": [
    "#### Format 'Date' Columns for better handling"
   ]
  },
  {
   "cell_type": "code",
   "execution_count": 14,
   "metadata": {
    "scrolled": true
   },
   "outputs": [
    {
     "data": {
      "text/plain": [
       "0   2017-11-10 17:00:03\n",
       "1   2017-11-13 17:00:00\n",
       "2   2017-11-12 19:05:24\n",
       "3   2017-11-12 18:01:41\n",
       "4   2017-11-09 11:04:14\n",
       "Name: publish_time, dtype: datetime64[ns]"
      ]
     },
     "execution_count": 14,
     "metadata": {},
     "output_type": "execute_result"
    }
   ],
   "source": [
    "merged_df['trending_date'] = pd.to_datetime(merged_df['trending_date'], format='%y.%d.%m')\n",
    "#merged_df['trending_date'].head()\n",
    "merged_df['publish_time'] = pd.to_datetime(merged_df['publish_time'], format='%Y-%m-%dT%H:%M:%S.%fZ')\n",
    "#merged_df['publish_time'].head()"
   ]
  },
  {
   "cell_type": "code",
   "execution_count": 16,
   "metadata": {},
   "outputs": [
    {
     "data": {
      "text/html": [
       "<div>\n",
       "<style scoped>\n",
       "    .dataframe tbody tr th:only-of-type {\n",
       "        vertical-align: middle;\n",
       "    }\n",
       "\n",
       "    .dataframe tbody tr th {\n",
       "        vertical-align: top;\n",
       "    }\n",
       "\n",
       "    .dataframe thead th {\n",
       "        text-align: right;\n",
       "    }\n",
       "</style>\n",
       "<table border=\"1\" class=\"dataframe\">\n",
       "  <thead>\n",
       "    <tr style=\"text-align: right;\">\n",
       "      <th></th>\n",
       "      <th>publish_date</th>\n",
       "      <th>publish_time</th>\n",
       "    </tr>\n",
       "  </thead>\n",
       "  <tbody>\n",
       "    <tr>\n",
       "      <th>0</th>\n",
       "      <td>2017-11-10</td>\n",
       "      <td>17:00:03</td>\n",
       "    </tr>\n",
       "    <tr>\n",
       "      <th>1</th>\n",
       "      <td>2017-11-13</td>\n",
       "      <td>17:00:00</td>\n",
       "    </tr>\n",
       "    <tr>\n",
       "      <th>2</th>\n",
       "      <td>2017-11-12</td>\n",
       "      <td>19:05:24</td>\n",
       "    </tr>\n",
       "    <tr>\n",
       "      <th>3</th>\n",
       "      <td>2017-11-12</td>\n",
       "      <td>18:01:41</td>\n",
       "    </tr>\n",
       "    <tr>\n",
       "      <th>4</th>\n",
       "      <td>2017-11-09</td>\n",
       "      <td>11:04:14</td>\n",
       "    </tr>\n",
       "  </tbody>\n",
       "</table>\n",
       "</div>"
      ],
      "text/plain": [
       "  publish_date publish_time\n",
       "0   2017-11-10     17:00:03\n",
       "1   2017-11-13     17:00:00\n",
       "2   2017-11-12     19:05:24\n",
       "3   2017-11-12     18:01:41\n",
       "4   2017-11-09     11:04:14"
      ]
     },
     "execution_count": 16,
     "metadata": {},
     "output_type": "execute_result"
    }
   ],
   "source": [
    "# separates date and time into two columns from 'publish_time' column\n",
    "merged_df.insert(4, 'publish_date', merged_df['publish_time'].dt.date)\n",
    "merged_df['publish_time'] = merged_df['publish_time'].dt.time\n",
    "merged_df[['publish_date', 'publish_time']].head()"
   ]
  },
  {
   "cell_type": "markdown",
   "metadata": {},
   "source": [
    "## Analysis & Visualization\n",
    "Now let’s start with the process of analysing the data and look at the various results the data can provide us with."
   ]
  },
  {
   "cell_type": "markdown",
   "metadata": {},
   "source": [
    "### Which is the most trending category for youtube videos across all countries?"
   ]
  },
  {
   "cell_type": "code",
   "execution_count": 27,
   "metadata": {},
   "outputs": [
    {
     "data": {
      "image/png": "[encoded data removed]",
      "text/plain": [
       "<matplotlib.figure.Figure at 0x133a7e90>"
      ]
     },
     "metadata": {},
     "output_type": "display_data"
    }
   ],
   "source": [
    "category_df_all = merged_df['category'].value_counts().reset_index()\n",
    "plt.figure(figsize=(15,5))\n",
    "ax = sns.barplot(y=category_df_all['index'],x=category_df_all['category'], data=category_df_all,orient='h')\n",
    "ax.set(xlabel=\"Number of Videos\", ylabel = \"Categories\", title=\"Catogories of trending videos across countries\");"
   ]
  },
  {
   "cell_type": "code",
   "execution_count": 28,
   "metadata": {},
   "outputs": [
    {
     "data": {
      "text/html": [
       "<div>\n",
       "<style scoped>\n",
       "    .dataframe tbody tr th:only-of-type {\n",
       "        vertical-align: middle;\n",
       "    }\n",
       "\n",
       "    .dataframe tbody tr th {\n",
       "        vertical-align: top;\n",
       "    }\n",
       "\n",
       "    .dataframe thead th {\n",
       "        text-align: right;\n",
       "    }\n",
       "</style>\n",
       "<table border=\"1\" class=\"dataframe\">\n",
       "  <thead>\n",
       "    <tr style=\"text-align: right;\">\n",
       "      <th></th>\n",
       "      <th>country</th>\n",
       "      <th>category</th>\n",
       "      <th>count</th>\n",
       "    </tr>\n",
       "  </thead>\n",
       "  <tbody>\n",
       "    <tr>\n",
       "      <th>0</th>\n",
       "      <td>US</td>\n",
       "      <td>Entertainment</td>\n",
       "      <td>9964</td>\n",
       "    </tr>\n",
       "    <tr>\n",
       "      <th>1</th>\n",
       "      <td>US</td>\n",
       "      <td>Music</td>\n",
       "      <td>6472</td>\n",
       "    </tr>\n",
       "    <tr>\n",
       "      <th>2</th>\n",
       "      <td>US</td>\n",
       "      <td>Howto &amp; Style</td>\n",
       "      <td>4146</td>\n",
       "    </tr>\n",
       "    <tr>\n",
       "      <th>3</th>\n",
       "      <td>RU</td>\n",
       "      <td>People &amp; Blogs</td>\n",
       "      <td>10350</td>\n",
       "    </tr>\n",
       "    <tr>\n",
       "      <th>4</th>\n",
       "      <td>RU</td>\n",
       "      <td>Entertainment</td>\n",
       "      <td>5943</td>\n",
       "    </tr>\n",
       "    <tr>\n",
       "      <th>5</th>\n",
       "      <td>RU</td>\n",
       "      <td>News &amp; Politics</td>\n",
       "      <td>5402</td>\n",
       "    </tr>\n",
       "    <tr>\n",
       "      <th>6</th>\n",
       "      <td>MX</td>\n",
       "      <td>Entertainment</td>\n",
       "      <td>13487</td>\n",
       "    </tr>\n",
       "    <tr>\n",
       "      <th>7</th>\n",
       "      <td>MX</td>\n",
       "      <td>People &amp; Blogs</td>\n",
       "      <td>8159</td>\n",
       "    </tr>\n",
       "    <tr>\n",
       "      <th>8</th>\n",
       "      <td>MX</td>\n",
       "      <td>Sports</td>\n",
       "      <td>4050</td>\n",
       "    </tr>\n",
       "    <tr>\n",
       "      <th>9</th>\n",
       "      <td>KR</td>\n",
       "      <td>Entertainment</td>\n",
       "      <td>8955</td>\n",
       "    </tr>\n",
       "    <tr>\n",
       "      <th>10</th>\n",
       "      <td>KR</td>\n",
       "      <td>News &amp; Politics</td>\n",
       "      <td>7582</td>\n",
       "    </tr>\n",
       "    <tr>\n",
       "      <th>11</th>\n",
       "      <td>KR</td>\n",
       "      <td>People &amp; Blogs</td>\n",
       "      <td>7056</td>\n",
       "    </tr>\n",
       "    <tr>\n",
       "      <th>12</th>\n",
       "      <td>JP</td>\n",
       "      <td>Entertainment</td>\n",
       "      <td>6259</td>\n",
       "    </tr>\n",
       "    <tr>\n",
       "      <th>13</th>\n",
       "      <td>JP</td>\n",
       "      <td>People &amp; Blogs</td>\n",
       "      <td>3915</td>\n",
       "    </tr>\n",
       "    <tr>\n",
       "      <th>14</th>\n",
       "      <td>JP</td>\n",
       "      <td>Sports</td>\n",
       "      <td>2037</td>\n",
       "    </tr>\n",
       "    <tr>\n",
       "      <th>15</th>\n",
       "      <td>IN</td>\n",
       "      <td>Entertainment</td>\n",
       "      <td>16712</td>\n",
       "    </tr>\n",
       "    <tr>\n",
       "      <th>16</th>\n",
       "      <td>IN</td>\n",
       "      <td>News &amp; Politics</td>\n",
       "      <td>5241</td>\n",
       "    </tr>\n",
       "    <tr>\n",
       "      <th>17</th>\n",
       "      <td>IN</td>\n",
       "      <td>Music</td>\n",
       "      <td>3858</td>\n",
       "    </tr>\n",
       "    <tr>\n",
       "      <th>18</th>\n",
       "      <td>GB</td>\n",
       "      <td>Music</td>\n",
       "      <td>13754</td>\n",
       "    </tr>\n",
       "    <tr>\n",
       "      <th>19</th>\n",
       "      <td>GB</td>\n",
       "      <td>Entertainment</td>\n",
       "      <td>9124</td>\n",
       "    </tr>\n",
       "    <tr>\n",
       "      <th>20</th>\n",
       "      <td>GB</td>\n",
       "      <td>People &amp; Blogs</td>\n",
       "      <td>2926</td>\n",
       "    </tr>\n",
       "    <tr>\n",
       "      <th>21</th>\n",
       "      <td>FR</td>\n",
       "      <td>Entertainment</td>\n",
       "      <td>9819</td>\n",
       "    </tr>\n",
       "    <tr>\n",
       "      <th>22</th>\n",
       "      <td>FR</td>\n",
       "      <td>People &amp; Blogs</td>\n",
       "      <td>5719</td>\n",
       "    </tr>\n",
       "    <tr>\n",
       "      <th>23</th>\n",
       "      <td>FR</td>\n",
       "      <td>Comedy</td>\n",
       "      <td>4343</td>\n",
       "    </tr>\n",
       "    <tr>\n",
       "      <th>24</th>\n",
       "      <td>DE</td>\n",
       "      <td>Entertainment</td>\n",
       "      <td>15292</td>\n",
       "    </tr>\n",
       "    <tr>\n",
       "      <th>25</th>\n",
       "      <td>DE</td>\n",
       "      <td>People &amp; Blogs</td>\n",
       "      <td>5988</td>\n",
       "    </tr>\n",
       "    <tr>\n",
       "      <th>26</th>\n",
       "      <td>DE</td>\n",
       "      <td>News &amp; Politics</td>\n",
       "      <td>2935</td>\n",
       "    </tr>\n",
       "    <tr>\n",
       "      <th>27</th>\n",
       "      <td>CA</td>\n",
       "      <td>Entertainment</td>\n",
       "      <td>13451</td>\n",
       "    </tr>\n",
       "    <tr>\n",
       "      <th>28</th>\n",
       "      <td>CA</td>\n",
       "      <td>News &amp; Politics</td>\n",
       "      <td>4159</td>\n",
       "    </tr>\n",
       "    <tr>\n",
       "      <th>29</th>\n",
       "      <td>CA</td>\n",
       "      <td>People &amp; Blogs</td>\n",
       "      <td>4105</td>\n",
       "    </tr>\n",
       "  </tbody>\n",
       "</table>\n",
       "</div>"
      ],
      "text/plain": [
       "   country         category  count\n",
       "0       US    Entertainment   9964\n",
       "1       US            Music   6472\n",
       "2       US    Howto & Style   4146\n",
       "3       RU   People & Blogs  10350\n",
       "4       RU    Entertainment   5943\n",
       "5       RU  News & Politics   5402\n",
       "6       MX    Entertainment  13487\n",
       "7       MX   People & Blogs   8159\n",
       "8       MX           Sports   4050\n",
       "9       KR    Entertainment   8955\n",
       "10      KR  News & Politics   7582\n",
       "11      KR   People & Blogs   7056\n",
       "12      JP    Entertainment   6259\n",
       "13      JP   People & Blogs   3915\n",
       "14      JP           Sports   2037\n",
       "15      IN    Entertainment  16712\n",
       "16      IN  News & Politics   5241\n",
       "17      IN            Music   3858\n",
       "18      GB            Music  13754\n",
       "19      GB    Entertainment   9124\n",
       "20      GB   People & Blogs   2926\n",
       "21      FR    Entertainment   9819\n",
       "22      FR   People & Blogs   5719\n",
       "23      FR           Comedy   4343\n",
       "24      DE    Entertainment  15292\n",
       "25      DE   People & Blogs   5988\n",
       "26      DE  News & Politics   2935\n",
       "27      CA    Entertainment  13451\n",
       "28      CA  News & Politics   4159\n",
       "29      CA   People & Blogs   4105"
      ]
     },
     "execution_count": 28,
     "metadata": {},
     "output_type": "execute_result"
    }
   ],
   "source": [
    "category_df_top3=pd.DataFrame(merged_df.groupby(['country','category'])['category'].agg(['count'])).sort_values('count',ascending=False).groupby('country').head(3).reset_index()\n",
    "\n",
    "category_df_top3=category_df_top3.sort_values(['country','count'],ascending=False).reset_index()\n",
    "category_df_top3.drop(['index'], axis=1,inplace=True)\n",
    "category_df_top3"
   ]
  },
  {
   "cell_type": "code",
   "execution_count": 47,
   "metadata": {},
   "outputs": [
    {
     "data": {
      "image/png": "[encoded data removed]",
      "text/plain": [
       "<matplotlib.figure.Figure at 0x2beaecf0>"
      ]
     },
     "metadata": {},
     "output_type": "display_data"
    }
   ],
   "source": [
    "g=sns.factorplot(x=\"country\", y=\"count\",data=category_df_top3, hue=\"category\", saturation=.5, ci=None,kind='bar',aspect=2); \n",
    "g.fig.set_size_inches(30, 20)\n",
    "g.set_xticklabels(fontsize= 15)\n",
    "g.set_yticklabels(fontsize= 15)\n",
    "g.set_xlabels('Popular category in each country', fontsize= 20)\n",
    "g.set_ylabels('Number of videos', fontsize= 20)\n",
    "params = {'legend.fontsize': 20,\n",
    "          'legend.handlelength': 6}\n",
    "plt.rcParams.update(params);"
   ]
  },
  {
   "cell_type": "markdown",
   "metadata": {},
   "source": [
    "#### Insights\n",
    "**The Trending Category** across all countries is _**Entertainment**_, which leads way ahead in the total number of views crossing the _**100K**_ mark. The second most trending category is _**People & Blogs**_ with total views reaching around _**50K**_ mark.\n",
    "\n",
    "If we further drill down to find out how the trend looks for each country, we find that _**Entertainment**_ is the top trending category in all the countries except for _**Russia**_ and _**Great Britain**_ (where _**Entertainment**_ is the _**2nd**_ most trending category)."
   ]
  },
  {
   "cell_type": "markdown",
   "metadata": {},
   "source": [
    "### How long does it take for a video to become trending in countries like Germany and France?"
   ]
  },
  {
   "cell_type": "markdown",
   "metadata": {},
   "source": [
    "#### What does Germany's data say?\n",
    "Let's calculate the date difference between the video publish and trending date.\n",
    "\n",
    "_**Consideration**:The videos can be trending for more than one day, and thus to get the correct analysis done, we should always consider the date when the video started trending first_."
   ]
  },
  {
   "cell_type": "code",
   "execution_count": 48,
   "metadata": {},
   "outputs": [
    {
     "data": {
      "text/html": [
       "<div>\n",
       "<style scoped>\n",
       "    .dataframe tbody tr th:only-of-type {\n",
       "        vertical-align: middle;\n",
       "    }\n",
       "\n",
       "    .dataframe tbody tr th {\n",
       "        vertical-align: top;\n",
       "    }\n",
       "\n",
       "    .dataframe thead th {\n",
       "        text-align: right;\n",
       "    }\n",
       "</style>\n",
       "<table border=\"1\" class=\"dataframe\">\n",
       "  <thead>\n",
       "    <tr style=\"text-align: right;\">\n",
       "      <th></th>\n",
       "      <th>video_id</th>\n",
       "      <th>publish_date</th>\n",
       "      <th>trending_date</th>\n",
       "      <th>days_diff</th>\n",
       "    </tr>\n",
       "  </thead>\n",
       "  <tbody>\n",
       "    <tr>\n",
       "      <th>0</th>\n",
       "      <td>--7vNbh4UNA</td>\n",
       "      <td>2018-04-13</td>\n",
       "      <td>2018-04-14</td>\n",
       "      <td>1</td>\n",
       "    </tr>\n",
       "    <tr>\n",
       "      <th>1</th>\n",
       "      <td>--I0aj8MUdU</td>\n",
       "      <td>2018-02-04</td>\n",
       "      <td>2018-02-05</td>\n",
       "      <td>1</td>\n",
       "    </tr>\n",
       "    <tr>\n",
       "      <th>2</th>\n",
       "      <td>--MtKsH5oBY</td>\n",
       "      <td>2018-05-31</td>\n",
       "      <td>2018-05-31</td>\n",
       "      <td>0</td>\n",
       "    </tr>\n",
       "    <tr>\n",
       "      <th>3</th>\n",
       "      <td>--moh3hSPpY</td>\n",
       "      <td>2018-01-02</td>\n",
       "      <td>2018-01-03</td>\n",
       "      <td>1</td>\n",
       "    </tr>\n",
       "    <tr>\n",
       "      <th>4</th>\n",
       "      <td>--rE6D0_jAw</td>\n",
       "      <td>2018-04-29</td>\n",
       "      <td>2018-04-30</td>\n",
       "      <td>1</td>\n",
       "    </tr>\n",
       "  </tbody>\n",
       "</table>\n",
       "</div>"
      ],
      "text/plain": [
       "      video_id publish_date trending_date  days_diff\n",
       "0  --7vNbh4UNA   2018-04-13    2018-04-14          1\n",
       "1  --I0aj8MUdU   2018-02-04    2018-02-05          1\n",
       "2  --MtKsH5oBY   2018-05-31    2018-05-31          0\n",
       "3  --moh3hSPpY   2018-01-02    2018-01-03          1\n",
       "4  --rE6D0_jAw   2018-04-29    2018-04-30          1"
      ]
     },
     "execution_count": 48,
     "metadata": {},
     "output_type": "execute_result"
    }
   ],
   "source": [
    "# Get the Trending Date and Publish Date for the all the videos and calculate the difference between them\n",
    "df_de=pd.DataFrame(merged_df[merged_df['country']=='DE'].groupby('video_id')[['publish_date','trending_date']].agg(['min'])).reset_index()\n",
    "df_de.columns = df_de.columns.droplevel(-1)\n",
    "df_de['days_diff']=(pd.to_datetime(df_de['trending_date']).dt.date-pd.to_datetime(df_de['publish_date']).dt.date).dt.days\n",
    "df_de.head()"
   ]
  },
  {
   "cell_type": "code",
   "execution_count": 49,
   "metadata": {},
   "outputs": [
    {
     "data": {
      "text/plain": [
       "1.5701893543051946"
      ]
     },
     "execution_count": 49,
     "metadata": {},
     "output_type": "execute_result"
    }
   ],
   "source": [
    "# Find the average of the date difference (between publish_date & trending_date)\n",
    "df_de['days_diff'].mean()"
   ]
  },
  {
   "cell_type": "markdown",
   "metadata": {},
   "source": [
    "##### Insights\n",
    "From the above analyis we can see that it takes on an average _**less than a couple of days**_ for a video to become trending in _**Germany**_."
   ]
  },
  {
   "cell_type": "markdown",
   "metadata": {},
   "source": [
    "#### What does France's data say?\n",
    "Let's calculate the date difference between the video publish and trending date.\n",
    "\n",
    "_**Consideration**:The videos can be trending for more than one day, and thus to get the correct analysis done, we should always consider the date when the video started trending first_."
   ]
  },
  {
   "cell_type": "code",
   "execution_count": 50,
   "metadata": {},
   "outputs": [
    {
     "data": {
      "text/html": [
       "<div>\n",
       "<style scoped>\n",
       "    .dataframe tbody tr th:only-of-type {\n",
       "        vertical-align: middle;\n",
       "    }\n",
       "\n",
       "    .dataframe tbody tr th {\n",
       "        vertical-align: top;\n",
       "    }\n",
       "\n",
       "    .dataframe thead th {\n",
       "        text-align: right;\n",
       "    }\n",
       "</style>\n",
       "<table border=\"1\" class=\"dataframe\">\n",
       "  <thead>\n",
       "    <tr style=\"text-align: right;\">\n",
       "      <th></th>\n",
       "      <th>video_id</th>\n",
       "      <th>publish_date</th>\n",
       "      <th>trending_date</th>\n",
       "      <th>days_diff</th>\n",
       "    </tr>\n",
       "  </thead>\n",
       "  <tbody>\n",
       "    <tr>\n",
       "      <th>0</th>\n",
       "      <td>--2K8l6BWfw</td>\n",
       "      <td>2018-03-05</td>\n",
       "      <td>2018-03-06</td>\n",
       "      <td>1</td>\n",
       "    </tr>\n",
       "    <tr>\n",
       "      <th>1</th>\n",
       "      <td>--728h8mnDY</td>\n",
       "      <td>2017-12-05</td>\n",
       "      <td>2017-12-06</td>\n",
       "      <td>1</td>\n",
       "    </tr>\n",
       "    <tr>\n",
       "      <th>2</th>\n",
       "      <td>--8-sr76Haw</td>\n",
       "      <td>2018-05-08</td>\n",
       "      <td>2018-05-09</td>\n",
       "      <td>1</td>\n",
       "    </tr>\n",
       "    <tr>\n",
       "      <th>3</th>\n",
       "      <td>--DqT_lWyEU</td>\n",
       "      <td>2018-06-04</td>\n",
       "      <td>2018-06-05</td>\n",
       "      <td>1</td>\n",
       "    </tr>\n",
       "    <tr>\n",
       "      <th>4</th>\n",
       "      <td>--FcOKEq9gU</td>\n",
       "      <td>2018-03-31</td>\n",
       "      <td>2018-04-01</td>\n",
       "      <td>1</td>\n",
       "    </tr>\n",
       "  </tbody>\n",
       "</table>\n",
       "</div>"
      ],
      "text/plain": [
       "      video_id publish_date trending_date  days_diff\n",
       "0  --2K8l6BWfw   2018-03-05    2018-03-06          1\n",
       "1  --728h8mnDY   2017-12-05    2017-12-06          1\n",
       "2  --8-sr76Haw   2018-05-08    2018-05-09          1\n",
       "3  --DqT_lWyEU   2018-06-04    2018-06-05          1\n",
       "4  --FcOKEq9gU   2018-03-31    2018-04-01          1"
      ]
     },
     "execution_count": 50,
     "metadata": {},
     "output_type": "execute_result"
    }
   ],
   "source": [
    "df_fr=pd.DataFrame(merged_df[merged_df['country']=='FR'].groupby('video_id')[['publish_date','trending_date']].agg(['min'])).reset_index()\n",
    "df_fr.columns = df_fr.columns.droplevel(-1)\n",
    "df_fr['days_diff']=(pd.to_datetime(df_fr['trending_date']).dt.date-pd.to_datetime(df_fr['publish_date']).dt.date).dt.days\n",
    "df_fr.head()"
   ]
  },
  {
   "cell_type": "code",
   "execution_count": 51,
   "metadata": {},
   "outputs": [
    {
     "data": {
      "text/plain": [
       "2.8108956541643506"
      ]
     },
     "execution_count": 51,
     "metadata": {},
     "output_type": "execute_result"
    }
   ],
   "source": [
    "# Find the average of the date difference (between publish_date & trending_date)\n",
    "df_fr['days_diff'].mean()"
   ]
  },
  {
   "cell_type": "markdown",
   "metadata": {},
   "source": [
    "##### Insights\n",
    "From the above analyis we can see that it takes on an average around _**3 days**_ for a video to become trending in _**France**_."
   ]
  },
  {
   "cell_type": "markdown",
   "metadata": {},
   "source": [
    "### List the Top 10 channels across all countries, that had at least 3 trending videos"
   ]
  },
  {
   "cell_type": "code",
   "execution_count": 61,
   "metadata": {},
   "outputs": [],
   "source": [
    "# For further analysis we will work with smaller dataset. \n",
    "# Sort all the videos by views and remove duplicate records based on video_id\n",
    "# The final dataset will give us the unique videos with trending_date as the last day when the video was trending\n",
    "df_subset=merged_df.sort_values(by='views', ascending=False).drop_duplicates(subset=['video_id']) "
   ]
  },
  {
   "cell_type": "code",
   "execution_count": 62,
   "metadata": {},
   "outputs": [],
   "source": [
    "df_channel=pd.DataFrame(df_subset.groupby('channel_title')['video_id'].nunique()).reset_index()"
   ]
  },
  {
   "cell_type": "code",
   "execution_count": 63,
   "metadata": {},
   "outputs": [],
   "source": [
    "df_channel.rename(columns={'video_id':'video_count'}, inplace=True)"
   ]
  },
  {
   "cell_type": "code",
   "execution_count": 65,
   "metadata": {},
   "outputs": [
    {
     "data": {
      "text/html": [
       "<div>\n",
       "<style scoped>\n",
       "    .dataframe tbody tr th:only-of-type {\n",
       "        vertical-align: middle;\n",
       "    }\n",
       "\n",
       "    .dataframe tbody tr th {\n",
       "        vertical-align: top;\n",
       "    }\n",
       "\n",
       "    .dataframe thead th {\n",
       "        text-align: right;\n",
       "    }\n",
       "</style>\n",
       "<table border=\"1\" class=\"dataframe\">\n",
       "  <thead>\n",
       "    <tr style=\"text-align: right;\">\n",
       "      <th></th>\n",
       "      <th>channel_title</th>\n",
       "      <th>video_count</th>\n",
       "    </tr>\n",
       "  </thead>\n",
       "  <tbody>\n",
       "    <tr>\n",
       "      <th>20903</th>\n",
       "      <td>SET India</td>\n",
       "      <td>253</td>\n",
       "    </tr>\n",
       "    <tr>\n",
       "      <th>20803</th>\n",
       "      <td>SAB TV</td>\n",
       "      <td>248</td>\n",
       "    </tr>\n",
       "    <tr>\n",
       "      <th>25720</th>\n",
       "      <td>VikatanTV</td>\n",
       "      <td>240</td>\n",
       "    </tr>\n",
       "    <tr>\n",
       "      <th>30489</th>\n",
       "      <td>ÐÐ½Ð°ÑÐ¾Ð»Ð¸Ð¹ Ð¨Ð°ÑÐ¸Ð¹</td>\n",
       "      <td>235</td>\n",
       "    </tr>\n",
       "    <tr>\n",
       "      <th>23982</th>\n",
       "      <td>The Late Show with Stephen Colbert</td>\n",
       "      <td>230</td>\n",
       "    </tr>\n",
       "    <tr>\n",
       "      <th>7300</th>\n",
       "      <td>Elhiwar Ettounsi</td>\n",
       "      <td>212</td>\n",
       "    </tr>\n",
       "    <tr>\n",
       "      <th>26004</th>\n",
       "      <td>WWE</td>\n",
       "      <td>203</td>\n",
       "    </tr>\n",
       "    <tr>\n",
       "      <th>32375</th>\n",
       "      <td>Ð Ð¾ÑÑÐ¸Ñ 24</td>\n",
       "      <td>194</td>\n",
       "    </tr>\n",
       "    <tr>\n",
       "      <th>6937</th>\n",
       "      <td>ESPN</td>\n",
       "      <td>185</td>\n",
       "    </tr>\n",
       "    <tr>\n",
       "      <th>3968</th>\n",
       "      <td>CNN</td>\n",
       "      <td>179</td>\n",
       "    </tr>\n",
       "  </tbody>\n",
       "</table>\n",
       "</div>"
      ],
      "text/plain": [
       "                            channel_title  video_count\n",
       "20903                           SET India          253\n",
       "20803                              SAB TV          248\n",
       "25720                           VikatanTV          240\n",
       "30489         ÐÐ½Ð°ÑÐ¾Ð»Ð¸Ð¹ Ð¨Ð°ÑÐ¸Ð¹          235\n",
       "23982  The Late Show with Stephen Colbert          230\n",
       "7300                     Elhiwar Ettounsi          212\n",
       "26004                                 WWE          203\n",
       "32375                     Ð Ð¾ÑÑÐ¸Ñ 24          194\n",
       "6937                                 ESPN          185\n",
       "3968                                  CNN          179"
      ]
     },
     "execution_count": 65,
     "metadata": {},
     "output_type": "execute_result"
    }
   ],
   "source": [
    "# Get the channels which has more than 3 trending videos\n",
    "df_channel_top10_video_count=df_channel[df_channel['video_count']>=3]\n",
    "\n",
    "# List the Top 10 Channels \n",
    "df_channel_top10_video_count.nlargest(10,'video_count')"
   ]
  },
  {
   "cell_type": "markdown",
   "metadata": {},
   "source": [
    "#### Insights\n",
    "The table above shows the Top 10 Channels across all countries. It can be seen that _**SET India**_ is the most popular channel across all countries and has the maximum number of views for the videos uploaded in that channel. This is followed by _**SAB TV**_ & _**VikatanTV**_. If we look at the category of these channels, these belong to _Entertainment_ category."
   ]
  },
  {
   "cell_type": "markdown",
   "metadata": {},
   "source": [
    " ### What are the Likes/Views and Dislikes/Views for the Top 10 Channels across all countries?"
   ]
  },
  {
   "cell_type": "code",
   "execution_count": 82,
   "metadata": {},
   "outputs": [],
   "source": [
    "lst=df_subset.groupby('channel_title')['video_id'].nunique().nlargest(10).index.tolist()\n",
    "df_channel_top10=df_subset[df_subset['channel_title'].isin(lst)]"
   ]
  },
  {
   "cell_type": "markdown",
   "metadata": {},
   "source": [
    "#### Likes/Views"
   ]
  },
  {
   "cell_type": "code",
   "execution_count": 84,
   "metadata": {},
   "outputs": [
    {
     "data": {
      "text/html": [
       "<div>\n",
       "<style scoped>\n",
       "    .dataframe tbody tr th:only-of-type {\n",
       "        vertical-align: middle;\n",
       "    }\n",
       "\n",
       "    .dataframe tbody tr th {\n",
       "        vertical-align: top;\n",
       "    }\n",
       "\n",
       "    .dataframe thead th {\n",
       "        text-align: right;\n",
       "    }\n",
       "</style>\n",
       "<table border=\"1\" class=\"dataframe\">\n",
       "  <thead>\n",
       "    <tr style=\"text-align: right;\">\n",
       "      <th></th>\n",
       "      <th>channel</th>\n",
       "      <th>ratio</th>\n",
       "    </tr>\n",
       "  </thead>\n",
       "  <tbody>\n",
       "    <tr>\n",
       "      <th>0</th>\n",
       "      <td>ÐÐ½Ð°ÑÐ¾Ð»Ð¸Ð¹ Ð¨Ð°ÑÐ¸Ð¹</td>\n",
       "      <td>0.068208</td>\n",
       "    </tr>\n",
       "    <tr>\n",
       "      <th>1</th>\n",
       "      <td>WWE</td>\n",
       "      <td>0.016863</td>\n",
       "    </tr>\n",
       "    <tr>\n",
       "      <th>2</th>\n",
       "      <td>The Late Show with Stephen Colbert</td>\n",
       "      <td>0.013203</td>\n",
       "    </tr>\n",
       "    <tr>\n",
       "      <th>3</th>\n",
       "      <td>CNN</td>\n",
       "      <td>0.009727</td>\n",
       "    </tr>\n",
       "    <tr>\n",
       "      <th>4</th>\n",
       "      <td>ESPN</td>\n",
       "      <td>0.008659</td>\n",
       "    </tr>\n",
       "    <tr>\n",
       "      <th>5</th>\n",
       "      <td>SET India</td>\n",
       "      <td>0.007929</td>\n",
       "    </tr>\n",
       "    <tr>\n",
       "      <th>6</th>\n",
       "      <td>Ð Ð¾ÑÑÐ¸Ñ 24</td>\n",
       "      <td>0.007845</td>\n",
       "    </tr>\n",
       "    <tr>\n",
       "      <th>7</th>\n",
       "      <td>SAB TV</td>\n",
       "      <td>0.005612</td>\n",
       "    </tr>\n",
       "    <tr>\n",
       "      <th>8</th>\n",
       "      <td>VikatanTV</td>\n",
       "      <td>0.005433</td>\n",
       "    </tr>\n",
       "    <tr>\n",
       "      <th>9</th>\n",
       "      <td>Elhiwar Ettounsi</td>\n",
       "      <td>0.005144</td>\n",
       "    </tr>\n",
       "  </tbody>\n",
       "</table>\n",
       "</div>"
      ],
      "text/plain": [
       "                              channel     ratio\n",
       "0         ÐÐ½Ð°ÑÐ¾Ð»Ð¸Ð¹ Ð¨Ð°ÑÐ¸Ð¹  0.068208\n",
       "1                                 WWE  0.016863\n",
       "2  The Late Show with Stephen Colbert  0.013203\n",
       "3                                 CNN  0.009727\n",
       "4                                ESPN  0.008659\n",
       "5                           SET India  0.007929\n",
       "6                     Ð Ð¾ÑÑÐ¸Ñ 24  0.007845\n",
       "7                              SAB TV  0.005612\n",
       "8                           VikatanTV  0.005433\n",
       "9                    Elhiwar Ettounsi  0.005144"
      ]
     },
     "execution_count": 84,
     "metadata": {},
     "output_type": "execute_result"
    }
   ],
   "source": [
    "view_like_ratio=df_channel_top10.groupby('channel_title').apply(lambda s: s.likes.sum()/s.views.sum()).sort_values(ascending=False).reset_index()\n",
    "view_like_ratio.columns = ['channel','ratio']\n",
    "view_like_ratio"
   ]
  },
  {
   "cell_type": "code",
   "execution_count": 85,
   "metadata": {},
   "outputs": [
    {
     "data": {
      "image/png": "[encoded data removed]",
      "text/plain": [
       "<matplotlib.figure.Figure at 0x2a2260d0>"
      ]
     },
     "metadata": {},
     "output_type": "display_data"
    }
   ],
   "source": [
    "plt.subplots(figsize=(10, 4))\n",
    "sns.barplot(x=\"ratio\", y=\"channel\", data=view_like_ratio,\n",
    "            label=\"Views-Likes Ratio\", color=\"g\");"
   ]
  },
  {
   "cell_type": "markdown",
   "metadata": {},
   "source": [
    "##### Insights\n",
    "From the above analysis, we could find that the channel _**ÐÐ½Ð°ÑÐ¾Ð»Ð¸Ð¹ Ð¨Ð°ÑÐ¸Ð¹**_, has the maximum Likes/Views ratio. This means that the videos in this channel are viewed a lot and at the same time liked as well and making it to the _**#4**_ in the Top 10 Channel list."
   ]
  },
  {
   "cell_type": "markdown",
   "metadata": {},
   "source": [
    "#### Dislikes/Views"
   ]
  },
  {
   "cell_type": "code",
   "execution_count": 86,
   "metadata": {},
   "outputs": [
    {
     "data": {
      "text/html": [
       "<div>\n",
       "<style scoped>\n",
       "    .dataframe tbody tr th:only-of-type {\n",
       "        vertical-align: middle;\n",
       "    }\n",
       "\n",
       "    .dataframe tbody tr th {\n",
       "        vertical-align: top;\n",
       "    }\n",
       "\n",
       "    .dataframe thead th {\n",
       "        text-align: right;\n",
       "    }\n",
       "</style>\n",
       "<table border=\"1\" class=\"dataframe\">\n",
       "  <thead>\n",
       "    <tr style=\"text-align: right;\">\n",
       "      <th></th>\n",
       "      <th>channel</th>\n",
       "      <th>ratio</th>\n",
       "    </tr>\n",
       "  </thead>\n",
       "  <tbody>\n",
       "    <tr>\n",
       "      <th>0</th>\n",
       "      <td>Ð Ð¾ÑÑÐ¸Ñ 24</td>\n",
       "      <td>0.005315</td>\n",
       "    </tr>\n",
       "    <tr>\n",
       "      <th>1</th>\n",
       "      <td>CNN</td>\n",
       "      <td>0.003361</td>\n",
       "    </tr>\n",
       "    <tr>\n",
       "      <th>2</th>\n",
       "      <td>ÐÐ½Ð°ÑÐ¾Ð»Ð¸Ð¹ Ð¨Ð°ÑÐ¸Ð¹</td>\n",
       "      <td>0.002406</td>\n",
       "    </tr>\n",
       "    <tr>\n",
       "      <th>3</th>\n",
       "      <td>VikatanTV</td>\n",
       "      <td>0.001752</td>\n",
       "    </tr>\n",
       "    <tr>\n",
       "      <th>4</th>\n",
       "      <td>ESPN</td>\n",
       "      <td>0.001097</td>\n",
       "    </tr>\n",
       "    <tr>\n",
       "      <th>5</th>\n",
       "      <td>Elhiwar Ettounsi</td>\n",
       "      <td>0.000935</td>\n",
       "    </tr>\n",
       "    <tr>\n",
       "      <th>6</th>\n",
       "      <td>WWE</td>\n",
       "      <td>0.000909</td>\n",
       "    </tr>\n",
       "    <tr>\n",
       "      <th>7</th>\n",
       "      <td>SET India</td>\n",
       "      <td>0.000888</td>\n",
       "    </tr>\n",
       "    <tr>\n",
       "      <th>8</th>\n",
       "      <td>The Late Show with Stephen Colbert</td>\n",
       "      <td>0.000813</td>\n",
       "    </tr>\n",
       "    <tr>\n",
       "      <th>9</th>\n",
       "      <td>SAB TV</td>\n",
       "      <td>0.000803</td>\n",
       "    </tr>\n",
       "  </tbody>\n",
       "</table>\n",
       "</div>"
      ],
      "text/plain": [
       "                              channel     ratio\n",
       "0                     Ð Ð¾ÑÑÐ¸Ñ 24  0.005315\n",
       "1                                 CNN  0.003361\n",
       "2         ÐÐ½Ð°ÑÐ¾Ð»Ð¸Ð¹ Ð¨Ð°ÑÐ¸Ð¹  0.002406\n",
       "3                           VikatanTV  0.001752\n",
       "4                                ESPN  0.001097\n",
       "5                    Elhiwar Ettounsi  0.000935\n",
       "6                                 WWE  0.000909\n",
       "7                           SET India  0.000888\n",
       "8  The Late Show with Stephen Colbert  0.000813\n",
       "9                              SAB TV  0.000803"
      ]
     },
     "execution_count": 86,
     "metadata": {},
     "output_type": "execute_result"
    }
   ],
   "source": [
    "view_dislike_ratio=df_channel_top10.groupby('channel_title').apply(lambda s: s.dislikes.sum()/s.views.sum()).sort_values(ascending=False).reset_index()\n",
    "view_dislike_ratio.columns = ['channel','ratio']\n",
    "view_dislike_ratio"
   ]
  },
  {
   "cell_type": "code",
   "execution_count": 88,
   "metadata": {},
   "outputs": [
    {
     "data": {
      "image/png": "[encoded data removed]",
      "text/plain": [
       "<matplotlib.figure.Figure at 0x2daacc10>"
      ]
     },
     "metadata": {},
     "output_type": "display_data"
    }
   ],
   "source": [
    "plt.subplots(figsize=(10, 4))\n",
    "sns.barplot(x=\"ratio\", y=\"channel\", data=view_dislike_ratio,\n",
    "            label=\"Views-Likes Ratio\", color=\"r\");"
   ]
  },
  {
   "cell_type": "markdown",
   "metadata": {},
   "source": [
    "##### Insights\n",
    "From the above analysis, we could find that the the channel _**Ð Ð¾ÑÑÐ¸Ñ 24**_, has the maximum Dislikes/Views ratio. This means that even though the videos in this channel are viewed a lot, people don't like the content. But, still based on the all factors the channel is part of the Top 10 Channel list at _**#8**_."
   ]
  },
  {
   "cell_type": "markdown",
   "metadata": {},
   "source": [
    "### How many unique Twitter profiles were listed in the description of the videos per country?"
   ]
  },
  {
   "cell_type": "code",
   "execution_count": 89,
   "metadata": {},
   "outputs": [],
   "source": [
    "# Creating an empty dataframe to record unique url by country\n",
    "tweet_df = pd.DataFrame(columns=['country','twitter_url'])"
   ]
  },
  {
   "cell_type": "code",
   "execution_count": 90,
   "metadata": {},
   "outputs": [],
   "source": [
    "# e.g.\tTweet Profile URL example “https://twitter.com/eminem”\n",
    "# Use RegularExpression to find the URL from description and store that in the dataframe created above\n",
    "\n",
    "for i,row in df.iterrows():\n",
    "    reg_row=re.findall(r'(https?://twitter\\.com\\/[a-zA-Z0-9_]+ )', row['description'])\n",
    "    for j in reg_row:\n",
    "        tweet_df.loc[len(tweet_df)]=[row['country'],j]\n",
    "        "
   ]
  },
  {
   "cell_type": "code",
   "execution_count": 91,
   "metadata": {},
   "outputs": [
    {
     "data": {
      "text/html": [
       "<div>\n",
       "<style scoped>\n",
       "    .dataframe tbody tr th:only-of-type {\n",
       "        vertical-align: middle;\n",
       "    }\n",
       "\n",
       "    .dataframe tbody tr th {\n",
       "        vertical-align: top;\n",
       "    }\n",
       "\n",
       "    .dataframe thead th {\n",
       "        text-align: right;\n",
       "    }\n",
       "</style>\n",
       "<table border=\"1\" class=\"dataframe\">\n",
       "  <thead>\n",
       "    <tr style=\"text-align: right;\">\n",
       "      <th></th>\n",
       "      <th>country</th>\n",
       "      <th>twitter_url</th>\n",
       "    </tr>\n",
       "  </thead>\n",
       "  <tbody>\n",
       "    <tr>\n",
       "      <th>0</th>\n",
       "      <td>CA</td>\n",
       "      <td>2114</td>\n",
       "    </tr>\n",
       "    <tr>\n",
       "      <th>2</th>\n",
       "      <td>FR</td>\n",
       "      <td>2011</td>\n",
       "    </tr>\n",
       "    <tr>\n",
       "      <th>7</th>\n",
       "      <td>MX</td>\n",
       "      <td>1968</td>\n",
       "    </tr>\n",
       "    <tr>\n",
       "      <th>5</th>\n",
       "      <td>JP</td>\n",
       "      <td>1561</td>\n",
       "    </tr>\n",
       "    <tr>\n",
       "      <th>1</th>\n",
       "      <td>DE</td>\n",
       "      <td>1328</td>\n",
       "    </tr>\n",
       "    <tr>\n",
       "      <th>9</th>\n",
       "      <td>US</td>\n",
       "      <td>1070</td>\n",
       "    </tr>\n",
       "    <tr>\n",
       "      <th>3</th>\n",
       "      <td>GB</td>\n",
       "      <td>881</td>\n",
       "    </tr>\n",
       "    <tr>\n",
       "      <th>8</th>\n",
       "      <td>RU</td>\n",
       "      <td>787</td>\n",
       "    </tr>\n",
       "    <tr>\n",
       "      <th>4</th>\n",
       "      <td>IN</td>\n",
       "      <td>688</td>\n",
       "    </tr>\n",
       "    <tr>\n",
       "      <th>6</th>\n",
       "      <td>KR</td>\n",
       "      <td>264</td>\n",
       "    </tr>\n",
       "  </tbody>\n",
       "</table>\n",
       "</div>"
      ],
      "text/plain": [
       "  country  twitter_url\n",
       "0      CA         2114\n",
       "2      FR         2011\n",
       "7      MX         1968\n",
       "5      JP         1561\n",
       "1      DE         1328\n",
       "9      US         1070\n",
       "3      GB          881\n",
       "8      RU          787\n",
       "4      IN          688\n",
       "6      KR          264"
      ]
     },
     "execution_count": 91,
     "metadata": {},
     "output_type": "execute_result"
    }
   ],
   "source": [
    "## Group the urls found above by country\n",
    "unique_tweet_url=pd.DataFrame(tweet_df.groupby('country')['twitter_url'].nunique()).reset_index()\n",
    "unique_tweet_url=unique_tweet_url.sort_values(by='twitter_url', ascending=False)\n",
    "unique_tweet_url"
   ]
  },
  {
   "cell_type": "code",
   "execution_count": 92,
   "metadata": {},
   "outputs": [
    {
     "data": {
      "image/png": "[encoded data removed]",
      "text/plain": [
       "<matplotlib.figure.Figure at 0x2a2f1790>"
      ]
     },
     "metadata": {},
     "output_type": "display_data"
    }
   ],
   "source": [
    "# Visualize\n",
    "fig, ax = plt.subplots(figsize=(14,5))\n",
    "ax = sns.barplot(y=unique_tweet_url['country'],x=unique_tweet_url['twitter_url'], data=unique_tweet_url,orient='h',\n",
    "                palette=(sns.color_palette('autumn', n_colors=10)[:]),\n",
    "                dodge=False)\n",
    "plt.xlabel(\"Number of unique twitter URL\")\n",
    "plt.ylabel(\"Country\")\n",
    "plt.title(\"Unique twitter URL by country\");"
   ]
  },
  {
   "cell_type": "markdown",
   "metadata": {},
   "source": [
    "#### Insights\n",
    "_**Canada**_ leads in the number of unique Twitter profiles listed in the video's description, followed by _**France**_ and _**Mexico**_."
   ]
  }
 ],
 "metadata": {
  "kernelspec": {
   "display_name": "Python 3",
   "language": "python",
   "name": "python3"
  },
  "language_info": {
   "codemirror_mode": {
    "name": "ipython",
    "version": 3
   },
   "file_extension": ".py",
   "mimetype": "text/x-python",
   "name": "python",
   "nbconvert_exporter": "python",
   "pygments_lexer": "ipython3",
   "version": "3.6.4"
  }
 },
 "nbformat": 4,
 "nbformat_minor": 2
}
